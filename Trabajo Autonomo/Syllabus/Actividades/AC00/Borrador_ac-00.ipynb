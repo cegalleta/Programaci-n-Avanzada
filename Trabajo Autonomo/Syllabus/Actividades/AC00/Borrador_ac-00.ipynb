{
 "cells": [
  {
   "cell_type": "code",
   "execution_count": 21,
   "metadata": {},
   "outputs": [
    {
     "name": "stdout",
     "output_type": "stream",
     "text": [
      "Diego Collao, Full Tareas, DCCollao\n",
      "Jorge Ignacio Toro, Full Tareas, jitorcas\n",
      "MatÃ­as Masjuan, Full Tareas, matiasmasjuan\n"
     ]
    }
   ],
   "source": [
    "from collections import namedtuple, defaultdict\n",
    "\n",
    "\n",
    "# Para esta parte necesitarás los contenidos de la semana 0\n",
    "def cargar_datos(path):\n",
    "    # Para esta función te puede servir el cuaderno 3 de la semana 0\n",
    "    with open('ayudantes.csv','r') as data:\n",
    "        ayudantes = []\n",
    "        for row in data:\n",
    "            ayudante = row.strip()\n",
    "            ayudantes.append(ayudante)\n",
    "    return ayudantes[1::]\n",
    "amikos = cargar_datos('ayudantes.csv')\n",
    "print(f\"\"\"{amikos[0]}\n",
    "{amikos[1]}\n",
    "{amikos[2]}\"\"\")"
   ]
  },
  {
   "cell_type": "code",
   "execution_count": 12,
   "metadata": {},
   "outputs": [
    {
     "data": {
      "text/plain": [
       "53"
      ]
     },
     "execution_count": 12,
     "metadata": {},
     "output_type": "execute_result"
    }
   ],
   "source": [
    "for amiko in amikos:\n",
    "    amiko.split(',')\n",
    "len(amikos)"
   ]
  },
  {
   "cell_type": "code",
   "execution_count": 22,
   "metadata": {},
   "outputs": [],
   "source": [
    "def crear_ayudantes(datos):\n",
    "    # Completar función\n",
    "    ayudante = namedtuple('Ayudante', ['Nombre', 'Cargo', 'Usuario'])\n",
    "    ayudantes = []\n",
    "    for row in datos:\n",
    "        ayudante_list = row.split(',')\n",
    "        ayudantes.append(ayudante(ayudante_list[0],\n",
    "                                  ayudante_list[1],\n",
    "                                  ayudante_list[2])) \n",
    "    return ayudantes\n",
    "amikos_namedtuples = crear_ayudantes(amikos)"
   ]
  },
  {
   "cell_type": "code",
   "execution_count": 30,
   "metadata": {},
   "outputs": [
    {
     "data": {
      "text/plain": [
       "{'Full Docencia', 'Full Tareas', 'HÃ\\xadbrido Docencia', 'HÃ\\xadbrido Tareas'}"
      ]
     },
     "execution_count": 30,
     "metadata": {},
     "output_type": "execute_result"
    }
   ],
   "source": [
    "def encontrar_cargos(ayudantes):\n",
    "    # Completar función\n",
    "    cargo_list = []\n",
    "    for row in ayudantes:\n",
    "        cargo_list.append(row.split(',')[1].strip(' '))\n",
    "    return set(cargo_list)\n",
    "encontrar_cargos(amikos)"
   ]
  },
  {
   "cell_type": "code",
   "execution_count": 34,
   "metadata": {},
   "outputs": [],
   "source": [
    "def ayudantes_por_cargo(ayudantes):\n",
    "    # Completar función\n",
    "    cargos = ['Full Docencia', 'Full Tareas', 'HÃ\\xadbrido Docencia', 'HÃ\\xadbrido Tareas']\n",
    "    full_docencia = []\n",
    "    full_tareas = []\n",
    "    hibrido_docencia = []\n",
    "    hibrido_tareas = []\n",
    "    for row in ayudantes:\n",
    "        ayudante= row.split(',')\n",
    "        if ayudante[1] == 'Full Docencia':\n",
    "            full_docencia.append(ayudante[0])\n",
    "        elif ayudante[1] == 'Full_Tareas':\n",
    "            full_tareas.append(ayudante[0])\n",
    "        elif ayudante[1] == 'HÃ\\xadbrido Docencia':\n",
    "            hibrido_docencia.append(ayudante[0])\n",
    "        else:\n",
    "            hibrido_tareas.append(ayudante[0])\n",
    "    ayudantes_por_cargo = [full_docencia, full_tareas, hibrido_docencia, hibrido_tareas]\n",
    "    ayudante_dic = dict(zip(cargos, ayudantes_por_cargo))\n",
    "    return ayudante_dic"
   ]
  },
  {
   "cell_type": "code",
   "execution_count": 35,
   "metadata": {},
   "outputs": [
    {
     "data": {
      "text/plain": [
       "{'Full Docencia': [],\n",
       " 'Full Tareas': [],\n",
       " 'HÃ\\xadbrido Docencia': [],\n",
       " 'HÃ\\xadbrido Tareas': ['Diego Collao',\n",
       "  'Jorge Ignacio Toro',\n",
       "  'MatÃ\\xadas Masjuan',\n",
       "  'Kevin Droguett',\n",
       "  'Vicente Vega',\n",
       "  'Dancko FernÃ¡ndez',\n",
       "  'Vicente Santelices',\n",
       "  'Felipe Urcelay',\n",
       "  'Jaime Coloma Apel',\n",
       "  'MarÃ\\xada JesÃºs Tala',\n",
       "  'Juan Pablo Saez ',\n",
       "  'Amparo Stevens CortÃ©s',\n",
       "  'Juan AndrÃ©s Arriagada',\n",
       "  'Rodrigo Bloomfield',\n",
       "  'Pablo Rademacher',\n",
       "  'Ignacio TomÃ¡s MuÃ±oz',\n",
       "  'HernÃ¡n Sazo',\n",
       "  'Antonio Jara Rozas',\n",
       "  'CristÃ³bal Zilleruelo',\n",
       "  'MatÃ\\xadas Duhalde',\n",
       "  'Lucas Valenzuela',\n",
       "  'BenjamÃ\\xadn VÃ¡squez',\n",
       "  'Trinidad Balart',\n",
       "  'Jadrina De Andrade',\n",
       "  'Jose Ignacio Retamal',\n",
       "  'Belen Osse',\n",
       "  'Magdalena Araya',\n",
       "  'Macarena MuÃ±oz',\n",
       "  'Ignacio Urrutia',\n",
       "  'Jose Ignacio Torralba',\n",
       "  'Josefina Reyes',\n",
       "  'Jose Tomas Urquiza',\n",
       "  'Eduardo Illanes',\n",
       "  'Javiera Fuentes',\n",
       "  'Juan JimÃ©nez',\n",
       "  'Fernando Balladares',\n",
       "  'Francisca Canales',\n",
       "  'Diego Chahuan',\n",
       "  'Gonzalo Concha',\n",
       "  'SebastiÃ¡n DÃ\\xadaz',\n",
       "  'Pablo Kipreos',\n",
       "  'Christian Klempau',\n",
       "  'Maria Pia Valenzuela',\n",
       "  'Ignacio Porte',\n",
       "  'Ian Basly Stuardo',\n",
       "  'Rafael Elberg',\n",
       "  'Alonso Gomez',\n",
       "  'Lucas Van Sint Jan',\n",
       "  'Daniela Andrea Poblete',\n",
       "  'JosÃ© Antonio Castro',\n",
       "  'TomÃ¡s Contreras',\n",
       "  'Javiera IrarrÃ¡zaval']}"
      ]
     },
     "execution_count": 35,
     "metadata": {},
     "output_type": "execute_result"
    }
   ],
   "source": [
    "amikos_dic = ayudantes_por_cargo(amikos)\n",
    "amikos_dic"
   ]
  },
  {
   "cell_type": "code",
   "execution_count": null,
   "metadata": {},
   "outputs": [],
   "source": []
  }
 ],
 "metadata": {
  "kernelspec": {
   "display_name": "Python 3",
   "language": "python",
   "name": "python3"
  },
  "language_info": {
   "codemirror_mode": {
    "name": "ipython",
    "version": 3
   },
   "file_extension": ".py",
   "mimetype": "text/x-python",
   "name": "python",
   "nbconvert_exporter": "python",
   "pygments_lexer": "ipython3",
   "version": "3.8.3"
  }
 },
 "nbformat": 4,
 "nbformat_minor": 4
}
